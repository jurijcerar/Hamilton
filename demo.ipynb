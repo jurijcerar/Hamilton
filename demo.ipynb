{
 "cells": [
  {
   "cell_type": "code",
   "execution_count": 1,
   "metadata": {},
   "outputs": [],
   "source": [
    "from hamilton_solver import HamiltonSolver"
   ]
  },
  {
   "cell_type": "code",
   "execution_count": 2,
   "metadata": {},
   "outputs": [
    {
     "name": "stdout",
     "output_type": "stream",
     "text": [
      "[['s_12', 's_13'], ['s_21', 's_24'], ['s_31', 's_34'], ['s_42', 's_43'], ['-s_12', '-s_13'], ['-s_21', '-s_24'], ['-s_31', '-s_34'], ['-s_42', '-s_43'], ['s_21', 's_31'], ['s_12', 's_42'], ['s_13', 's_43'], ['s_24', 's_34'], ['-s_21', '-s_31'], ['-s_12', '-s_42'], ['-s_13', '-s_43'], ['-s_24', '-s_34'], ['-s_12', '-s_21'], ['-s_13', '-s_31'], ['-s_24', '-s_42'], ['-s_34', '-s_43'], ['-o_12', '-o_23', 'o_13'], ['-o_12', '-o_24', 'o_14'], ['-o_13', '-o_34', 'o_14'], ['-o_23', '-o_34', 'o_24'], ['o_12', 'o_23', '-o_13'], ['o_12', 'o_24', '-o_14'], ['o_13', 'o_34', '-o_14'], ['o_23', 'o_34', '-o_24'], ['-o_12', '-o_21'], ['-o_13', '-o_31'], ['-o_14', '-o_41'], ['-o_23', '-o_32'], ['-o_24', '-o_42'], ['-o_34', '-o_43'], ['o_12'], ['o_13'], ['o_14'], ['-s_21', 'o_32'], ['-s_21', 'o_42'], ['-s_31', 'o_23'], ['-s_31', 'o_43'], ['-s_12', 'o_12'], ['-s_13', 'o_13'], ['-s_24', 'o_24'], ['-s_34', 'o_34'], ['-s_42', 'o_42'], ['-s_43', 'o_43']]\n",
      "SOLUTION:  ['s_13', 's_21', 's_34', 's_42', 'o_12', 'o_13', 'o_14', 'o_34', 'o_32', 'o_42']\n"
     ]
    }
   ],
   "source": [
    "\n",
    "solver = HamiltonSolver()\n",
    "\n",
    "solver.read_file(\"squareNH.hcp\")\n",
    "\n",
    "solver.full_encoding()\n",
    "\n",
    "solution = solver.solve_hamilton()\n",
    "\n",
    "print(\"SOLUTION: \", solution)\n",
    "\n",
    "#print(solver.validate(solution))\n"
   ]
  }
 ],
 "metadata": {
  "kernelspec": {
   "display_name": "Python 3",
   "language": "python",
   "name": "python3"
  },
  "language_info": {
   "codemirror_mode": {
    "name": "ipython",
    "version": 3
   },
   "file_extension": ".py",
   "mimetype": "text/x-python",
   "name": "python",
   "nbconvert_exporter": "python",
   "pygments_lexer": "ipython3",
   "version": "3.11.9"
  }
 },
 "nbformat": 4,
 "nbformat_minor": 2
}

{
 "cells": [
  {
   "cell_type": "code",
   "execution_count": 3,
   "metadata": {},
   "outputs": [],
   "source": [
    "from hamilton_solver import HamiltonSolver"
   ]
  },
  {
   "cell_type": "code",
   "execution_count": 7,
   "metadata": {},
   "outputs": [
    {
     "name": "stdout",
     "output_type": "stream",
     "text": [
      "Is solution valid hamilton graph?  True\n",
      "SOLUTION:  [1, 10, 8, 4, 6, 9, 3, 2, 7, 5, 1]\n"
     ]
    }
   ],
   "source": [
    "\n",
    "solver = HamiltonSolver()\n",
    "\n",
    "solver.read_file(\"Examples/graph_10.hcp\")\n",
    "\n",
    "solver.full_encoding()\n",
    "\n",
    "solution = solver.solve_hamilton()\n",
    "\n",
    "print(\"SOLUTION: \", solution)\n",
    "\n",
    "#print(solver.validate(solution))\n"
   ]
  }
 ],
 "metadata": {
  "kernelspec": {
   "display_name": "Python 3",
   "language": "python",
   "name": "python3"
  },
  "language_info": {
   "codemirror_mode": {
    "name": "ipython",
    "version": 3
   },
   "file_extension": ".py",
   "mimetype": "text/x-python",
   "name": "python",
   "nbconvert_exporter": "python",
   "pygments_lexer": "ipython3",
   "version": "3.11.9"
  }
 },
 "nbformat": 4,
 "nbformat_minor": 2
}

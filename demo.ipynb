{
 "cells": [
  {
   "cell_type": "code",
   "execution_count": 2,
   "metadata": {},
   "outputs": [],
   "source": [
    "from hamilton_solver import HamiltonSolver"
   ]
  },
  {
   "cell_type": "code",
   "execution_count": 9,
   "metadata": {},
   "outputs": [
    {
     "name": "stdout",
     "output_type": "stream",
     "text": [
      "SOLUTION:  UNSAT\n"
     ]
    }
   ],
   "source": [
    "\n",
    "solver = HamiltonSolver()\n",
    "\n",
    "solver.read_file(\"Examples/squareNH.hcp\")\n",
    "\n",
    "solver.full_encoding()\n",
    "\n",
    "solution = solver.solve_hamilton()\n",
    "\n",
    "print(\"SOLUTION: \", solution)\n",
    "\n",
    "#print(solver.validate(solution))\n"
   ]
  }
 ],
 "metadata": {
  "kernelspec": {
   "display_name": "Python 3",
   "language": "python",
   "name": "python3"
  },
  "language_info": {
   "codemirror_mode": {
    "name": "ipython",
    "version": 3
   },
   "file_extension": ".py",
   "mimetype": "text/x-python",
   "name": "python",
   "nbconvert_exporter": "python",
   "pygments_lexer": "ipython3",
   "version": "3.11.9"
  }
 },
 "nbformat": 4,
 "nbformat_minor": 2
}

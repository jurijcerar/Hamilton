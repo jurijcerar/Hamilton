{
 "cells": [
  {
   "cell_type": "code",
   "execution_count": 3,
   "metadata": {},
   "outputs": [],
   "source": [
    "from hamilton_solver import HamiltonSolver"
   ]
  },
  {
   "cell_type": "code",
   "execution_count": 1,
   "metadata": {},
   "outputs": [
    {
     "ename": "NameError",
     "evalue": "name 'HamiltonSolver' is not defined",
     "output_type": "error",
     "traceback": [
      "\u001b[1;31m---------------------------------------------------------------------------\u001b[0m",
      "\u001b[1;31mNameError\u001b[0m                                 Traceback (most recent call last)",
      "Cell \u001b[1;32mIn[1], line 1\u001b[0m\n\u001b[1;32m----> 1\u001b[0m solver \u001b[38;5;241m=\u001b[39m \u001b[43mHamiltonSolver\u001b[49m()\n\u001b[0;32m      3\u001b[0m solver\u001b[38;5;241m.\u001b[39mread_file(\u001b[38;5;124m\"\u001b[39m\u001b[38;5;124mtest2.hcp\u001b[39m\u001b[38;5;124m\"\u001b[39m)\n\u001b[0;32m      5\u001b[0m solver\u001b[38;5;241m.\u001b[39mfull_encoding()\n",
      "\u001b[1;31mNameError\u001b[0m: name 'HamiltonSolver' is not defined"
     ]
    }
   ],
   "source": [
    "solver = HamiltonSolver()\n",
    "\n",
    "solver.read_file(\"test2.hcp\")\n",
    "\n",
    "solver.full_encoding()\n",
    "\n",
    "solution = solver.solve_hamilton()\n",
    "\n",
    "print(solution)\n",
    "\n",
    "print(solver.validate(solution))\n"
   ]
  }
 ],
 "metadata": {
  "kernelspec": {
   "display_name": "Python 3",
   "language": "python",
   "name": "python3"
  },
  "language_info": {
   "codemirror_mode": {
    "name": "ipython",
    "version": 3
   },
   "file_extension": ".py",
   "mimetype": "text/x-python",
   "name": "python",
   "nbconvert_exporter": "python",
   "pygments_lexer": "ipython3",
   "version": "3.11.9"
  }
 },
 "nbformat": 4,
 "nbformat_minor": 2
}
